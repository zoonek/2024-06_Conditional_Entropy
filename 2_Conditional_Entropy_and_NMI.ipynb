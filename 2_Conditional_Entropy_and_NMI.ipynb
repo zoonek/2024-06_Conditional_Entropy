{
 "cells": [
  {
   "cell_type": "markdown",
   "id": "07dc5e31-22b6-4811-b1d2-a14975b48174",
   "metadata": {},
   "source": [
    "Before running this notebook: \n",
    "\n",
    "```bash\n",
    "# Downloads the data, unless it is already there (this uses R)\n",
    "make data  \n",
    "\n",
    "# Install dependencies\n",
    "pip install numpy pandas matplotlib seaborn tqdm\n",
    "pip install entropy_estimators normi\n",
    "```"
   ]
  },
  {
   "cell_type": "markdown",
   "id": "2fdb148d-9ca8-41b1-af04-9131d390bb1e",
   "metadata": {},
   "source": [
    "The efficient market hypothesis (EMH) claim that \"current prices\" contain all the information needed to forecast future prices:\n",
    "if this were true, the conditional entropy $H(\\text{future}|\\text{past}) = H(\\text{past}, \\text{future}) - H(\\text{past})$ would be \"high\".\n",
    "We need to clarify a few terms in that sentence: \n",
    "- By \"current prices\" (resp. \"future prices\"), we mean the current state of the market: we will define it as the 1-, 3-, 6- and 12-month trailing (resp. forward) log-returns of assets in the universe\n",
    "- The entropy of continuous, multivariate distributions is notoriously difficult to estimate from sample data: we use the KL estimator [3], which assumes that the distribution is locally uniform [1]. Instead, it is possible to make a locally Gaussian assumption [2], but the computations are trickier (implementation bugs are more likely), slower, and noisier.\n",
    "- Instead of the conditional entropy, one may consider the *normalized mutual information* [4]:\n",
    "  - $H(X)$: uncertainty about $X$\n",
    "  - $H(Y|X)$: remaining uncertainty about $X$ after knowing $Y$\n",
    "  - $I(X;Y)$: decrease in uncertainty about $X$ brought by $Y$\n",
    "  - $\\text{NMI}(X;Y) \\in [0,1]$ can be seen as a non-Gaussian (and multivariate) correlation\n",
    "    \n",
    "References: \n",
    "\n",
    "[1] *Sample estimate of the entropy of a random vector* (non-English -- see [2] instead) (L.F. Kozachenko and N.N. Leonenko, 1987) https://www.mathnet.ru/php/archive.phtml?wshow=paper&jrnid=ppi&paperid=797&option_lang=eng\n",
    "\n",
    "[2] *A non-parametric k-nearest neighbour entropy estimator* (D.Lonbardi and S. Pant, 2015) https://arxiv.org/abs/1506.06501\n",
    "\n",
    "[3] https://github.com/paulbrodersen/entropy_estimators\n",
    "\n",
    "[4] *Accurate estimation of the normalized mutual information of multidimensional data* (D. Naget et al., 2024) https://arxiv.org/abs/2405.04980 (code: https://moldyn.github.io/NorMI/)"
   ]
  },
  {
   "cell_type": "code",
   "execution_count": null,
   "id": "a3572261-28f5-488b-a64f-6c9bd79ef175",
   "metadata": {},
   "outputs": [],
   "source": [
    "import warnings\n",
    "import numpy as np\n",
    "import pandas as pd\n",
    "import matplotlib\n",
    "import matplotlib.pyplot as plt\n",
    "import seaborn as sns\n",
    "from tqdm import tqdm\n",
    "from entropy_estimators.continuous import get_h\n",
    "from normi import NormalizedMI\n",
    "\n",
    "for message in [\n",
    "    \"divide by zero encountered in log\",\n",
    "    \"invalid value encountered in sqrt\",\n",
    "    \"The figure layout has changed to tight\",\n",
    "]:\n",
    "    warnings.filterwarnings(\"ignore\", message=message)"
   ]
  },
  {
   "cell_type": "code",
   "execution_count": null,
   "id": "c8951d8c-65f5-400a-8b36-44bc314f2b36",
   "metadata": {},
   "outputs": [],
   "source": [
    "def axis_year(ax, format=\"%Y\"):\n",
    "    ax.xaxis.set_major_locator(matplotlib.dates.YearLocator())\n",
    "    ax.xaxis.set_minor_locator(matplotlib.dates.YearLocator(month=7, day=1))\n",
    "    ax.xaxis.set_major_formatter(matplotlib.ticker.NullFormatter())\n",
    "    ax.xaxis.set_minor_formatter(matplotlib.dates.DateFormatter(format))\n",
    "    for tick in ax.xaxis.get_minor_ticks():\n",
    "        tick.tick1line.set_markersize(0)\n",
    "        tick.tick2line.set_markersize(0)\n",
    "        tick.label1.set_horizontalalignment('center')\n",
    "    ticks = ax.xaxis.get_major_ticks()\n",
    "    xlocs = ax.get_xticks()\n",
    "    for pos, tick in zip(xlocs, ticks):\n",
    "        date = matplotlib.dates.num2date(pos)\n",
    "        if date.year % 10 == 0:\n",
    "            tick.tick1line.set_markersize(15)  "
   ]
  },
  {
   "cell_type": "markdown",
   "id": "c88faa6d-3120-4ac0-8aa6-008bb734f007",
   "metadata": {},
   "source": [
    "# Data"
   ]
  },
  {
   "cell_type": "code",
   "execution_count": null,
   "id": "e81e1725-d6b0-47a8-b8d7-c0f58c6f5156",
   "metadata": {},
   "outputs": [],
   "source": [
    "d = pd.read_csv(\"raw/data_ml.csv\")\n",
    "d = d[['stock_id', 'date', 'Vol1Y_Usd', 'R1M_Usd', 'R3M_Usd', 'R6M_Usd', 'R12M_Usd', 'R1M_Rel']].copy()\n",
    "d.sort_values([\"stock_id\", \"date\"], inplace=True)\n",
    "d['date'] = pd.to_datetime( d['date'] )"
   ]
  },
  {
   "cell_type": "code",
   "execution_count": null,
   "id": "35a8ce7b-b690-4547-8e99-6e3bccfd9127",
   "metadata": {},
   "outputs": [],
   "source": [
    "# Add forward returns\n",
    "d['F1M_Usd'] = d.groupby('stock_id').shift(1)['R1M_Usd']\n",
    "d['F3M_Usd'] = d.groupby('stock_id').shift(3)['R3M_Usd']\n",
    "d['F6M_Usd'] = d.groupby('stock_id').shift(6)['R6M_Usd']\n",
    "d['F12M_Usd'] = d.groupby('stock_id').shift(12)['R12M_Usd']\n",
    "\n",
    "d = d.dropna()\n",
    "\n",
    "d.head()"
   ]
  },
  {
   "cell_type": "markdown",
   "id": "74b76d0c-aeb5-474f-a239-49211f1efd17",
   "metadata": {},
   "source": [
    "# Computations: cross-sectional"
   ]
  },
  {
   "cell_type": "code",
   "execution_count": null,
   "id": "0d79aa67-bf48-4ea2-9c8e-c71bc51826d0",
   "metadata": {},
   "outputs": [],
   "source": [
    "past = ['R1M_Usd', 'R3M_Usd', 'R6M_Usd', 'R12M_Usd']\n",
    "future = ['F1M_Usd', 'F3M_Usd', 'F6M_Usd', 'F12M_Usd']\n",
    "assert len(past) == len(future)"
   ]
  },
  {
   "cell_type": "code",
   "execution_count": null,
   "id": "d1248424-95b0-46f2-ac73-4a851b0e036e",
   "metadata": {},
   "outputs": [],
   "source": [
    "volatility = {}\n",
    "entropy = {}\n",
    "conditional_entropy = {}\n",
    "mutual_information = {}\n",
    "\n",
    "nmi = NormalizedMI(n_dims=len(past), verbose=False)\n",
    "\n",
    "dates = d['date'].unique()\n",
    "for date in tqdm(dates):\n",
    "    i = d['date'] == date\n",
    "    X = d[i][past]\n",
    "    Y = d[i][future]\n",
    "    XY = d[i][past+future]\n",
    "    entropy[date] = get_h(X)\n",
    "    volatility[date] = X.iloc[:,0].std()\n",
    "    conditional_entropy[date] = get_h(XY) - entropy[date]\n",
    "    \n",
    "    mutual_information[date] = np.nan\n",
    "    try: \n",
    "        nmi.fit(XY.values)\n",
    "        mutual_information[date] = nmi.nmi_[0,1]\n",
    "    except:\n",
    "        pass\n",
    "        \n",
    "conditional_entropy = pd.Series( conditional_entropy )\n",
    "entropy = pd.Series( entropy )\n",
    "volatility = pd.Series( volatility )\n",
    "mutual_information = pd.Series( mutual_information )"
   ]
  },
  {
   "cell_type": "code",
   "execution_count": null,
   "id": "48c871de-208e-45b8-8d2c-5e0f0a695367",
   "metadata": {},
   "outputs": [],
   "source": [
    "fig, axs = plt.subplots( 4, 1, figsize = (9,12), layout = 'constrained' )\n",
    "axs[0].plot( conditional_entropy )\n",
    "axs[1].plot( entropy )\n",
    "axs[2].plot( mutual_information )\n",
    "axs[3].plot( volatility )\n",
    "axs[0].set_ylabel( \"Conditional Entropy\" )\n",
    "axs[1].set_ylabel( \"Entropy\" )\n",
    "axs[2].set_ylabel( \"Normalized Mutual Information\" )\n",
    "axs[3].set_ylabel( \"Cross-sectional volatility\" )\n",
    "axs[3].set_yscale('log')\n",
    "axs[3].set_yticks( \n",
    "    [.05,.06,.07,.08,.09,.1,.2,.3,.4,.5,.6,.7,.8,.9,1], \n",
    "    ['',  '', '', '', '',.1,.2,.3,.4,.5,'','','','',1],\n",
    ")\n",
    "for ax in axs:\n",
    "    axis_year(ax, \"%y\")\n",
    "fig.suptitle(\"Cross-sectional\")\n",
    "plt.show()"
   ]
  },
  {
   "cell_type": "code",
   "execution_count": null,
   "id": "1546cc5b-2f8d-4772-860a-495b47e03f5e",
   "metadata": {},
   "outputs": [],
   "source": [
    "fig, ax = plt.subplots( figsize = (9,3), layout = 'constrained' )\n",
    "ax.plot( mutual_information )\n",
    "ax.set_ylabel( \"Normalized Mutual Information\" )\n",
    "axis_year(ax, \"%y\")\n",
    "ax.set_title(\"Cross-sectional\")\n",
    "fig.savefig(\"plots/2_NMI_cross-sectional.pdf\")\n",
    "plt.show()"
   ]
  },
  {
   "cell_type": "code",
   "execution_count": null,
   "id": "b8c80b98-cc0d-4126-8d06-4e44ec6ea67f",
   "metadata": {},
   "outputs": [],
   "source": [
    "measures = pd.DataFrame( { \n",
    "    'Conditional Entropy':           conditional_entropy,\n",
    "    'Entropy':                       entropy,\n",
    "    'Normalized Mutual Information': mutual_information,\n",
    "    'log(Volatility)':               np.log(volatility),\n",
    "} )\n",
    "sns.pairplot( measures ).fig.suptitle(\"Cross-sectional\", y=1)"
   ]
  },
  {
   "cell_type": "markdown",
   "id": "1dba6232-4cff-4802-8bb9-4f8643e8a5d5",
   "metadata": {},
   "source": [
    "# Computations: time series"
   ]
  },
  {
   "cell_type": "code",
   "execution_count": null,
   "id": "c587bbd1-af91-4bba-aaca-0ceeff37932f",
   "metadata": {},
   "outputs": [],
   "source": [
    "volatility = {}\n",
    "entropy = {}\n",
    "conditional_entropy = {}\n",
    "mutual_information = {}\n",
    "\n",
    "nmi = NormalizedMI(n_dims=len(past), verbose=False)\n",
    "\n",
    "ids = d['stock_id'].unique()\n",
    "for id in tqdm(ids):\n",
    "    i = d['stock_id'] == id\n",
    "    X = d[i][past]\n",
    "    Y = d[i][future]\n",
    "    XY = d[i][past+future]\n",
    "    entropy[id] = get_h(X)\n",
    "    volatility[id] = X.iloc[:,0].std()\n",
    "    conditional_entropy[id] = get_h(XY) - entropy[id]\n",
    "    \n",
    "    mutual_information[id] = np.nan\n",
    "    try: \n",
    "        nmi.fit(XY.values)\n",
    "        mutual_information[id] = nmi.nmi_[0,1]\n",
    "    except:\n",
    "        pass\n",
    "        \n",
    "conditional_entropy = pd.Series( conditional_entropy )\n",
    "entropy = pd.Series( entropy )\n",
    "volatility = pd.Series( volatility )\n",
    "mutual_information = pd.Series( mutual_information )"
   ]
  },
  {
   "cell_type": "code",
   "execution_count": null,
   "id": "c0613a44-7cb3-4656-a65d-4a074bb59420",
   "metadata": {},
   "outputs": [],
   "source": [
    "# Replace np.inf with np.nan\n",
    "for u in [\n",
    "    conditional_entropy,\n",
    "    entropy,\n",
    "    volatility,\n",
    "    mutual_information,\n",
    "]: \n",
    "    u[ ~ np.isfinite(u) ] = np.nan\n",
    "\n",
    "fig, axs = plt.subplots(2,2, figsize=(8,8), layout='constrained')\n",
    "axs[0,0].hist( conditional_entropy, edgecolor='tab:blue', facecolor='lightblue' )\n",
    "axs[0,1].hist( mutual_information,  edgecolor='tab:blue', facecolor='lightblue' )\n",
    "axs[1,0].hist( entropy,             edgecolor='tab:blue', facecolor='lightblue' )\n",
    "axs[1,1].hist( np.log(volatility),  edgecolor='tab:blue', facecolor='lightblue' )\n",
    "axs[0,0].set_title( \"Conditional Entropy\" )\n",
    "axs[0,1].set_title( \"Normalized Mutual Information\" )\n",
    "axs[1,0].set_title( \"Entropy\" )\n",
    "axs[1,1].set_title( \"log(Volatility)\" )\n",
    "fig.suptitle( \"Time series\" )\n",
    "plt.show()"
   ]
  },
  {
   "cell_type": "code",
   "execution_count": null,
   "id": "503143fd-9fd5-409e-bb72-46a5ec075fdf",
   "metadata": {},
   "outputs": [],
   "source": [
    "fig, ax = plt.subplots(figsize=(4,2.5), layout='constrained')\n",
    "ax.hist( mutual_information, bins=20, edgecolor='tab:blue', facecolor='lightblue' )\n",
    "ax.set_xlabel( \"Normalized Mutual Information\" )\n",
    "#ax.set_title( \"Time series\" )\n",
    "for side in ['left', 'right', 'top']:\n",
    "    ax.spines[side].set_visible(False)\n",
    "ax.set_yticks([])\n",
    "fig.savefig(\"plots/2_NMI_time_series.pdf\")\n",
    "plt.show()"
   ]
  },
  {
   "cell_type": "code",
   "execution_count": null,
   "id": "04690e5e-0f3b-4e2e-9b13-fb583309474c",
   "metadata": {},
   "outputs": [],
   "source": [
    "measures = pd.DataFrame( { \n",
    "    'Conditional Entropy':           conditional_entropy,\n",
    "    'Entropy':                       entropy,\n",
    "    'Normalized Mutual Information': mutual_information,\n",
    "    'log(Volatility)':               np.log(volatility),\n",
    "} )\n",
    "sns.pairplot( measures ).fig.suptitle(\"Time series\", y=1)"
   ]
  }
 ],
 "metadata": {
  "kernelspec": {
   "display_name": "Python 3 (ipykernel)",
   "language": "python",
   "name": "python3"
  },
  "language_info": {
   "codemirror_mode": {
    "name": "ipython",
    "version": 3
   },
   "file_extension": ".py",
   "mimetype": "text/x-python",
   "name": "python",
   "nbconvert_exporter": "python",
   "pygments_lexer": "ipython3",
   "version": "3.11.5"
  }
 },
 "nbformat": 4,
 "nbformat_minor": 5
}
